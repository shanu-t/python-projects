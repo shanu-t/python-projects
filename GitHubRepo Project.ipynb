{
 "cells": [
  {
   "cell_type": "code",
   "execution_count": 1,
   "id": "1fe991c9-bcae-45b5-9374-c89eb580bfe8",
   "metadata": {},
   "outputs": [],
   "source": [
    "import requests"
   ]
  },
  {
   "cell_type": "code",
   "execution_count": 2,
   "id": "de630016-2084-4788-958f-b4b12762fa8e",
   "metadata": {},
   "outputs": [],
   "source": [
    "url = \"https://github.com/topics\""
   ]
  },
  {
   "cell_type": "code",
   "execution_count": 8,
   "id": "5ab385bd-4ac7-4b1e-a33a-132d1ba26900",
   "metadata": {},
   "outputs": [],
   "source": [
    "res = requests.get(url)"
   ]
  },
  {
   "cell_type": "code",
   "execution_count": 9,
   "id": "c956bc56-f458-4611-95fd-e9a64ab8c717",
   "metadata": {},
   "outputs": [],
   "source": [
    "from bs4 import BeautifulSoup"
   ]
  },
  {
   "cell_type": "code",
   "execution_count": 11,
   "id": "2c8a269f-f514-41ca-af26-bba7e6328e33",
   "metadata": {},
   "outputs": [],
   "source": [
    "content = res.text"
   ]
  },
  {
   "cell_type": "code",
   "execution_count": 13,
   "id": "cd418174-c3f1-4614-8ff4-27f4be89450c",
   "metadata": {},
   "outputs": [
    {
     "data": {
      "text/plain": [
       "'\\n\\n<!DOCTYPE html>\\n<html\\n  lang=\"en\"\\n  \\n  data-color-mode=\"auto\" data-light-theme=\"light\" data-dark-theme=\"dark\"\\n  data-a11y-animated-images=\"system\" data-a11y-link-underlines=\"true\"\\n  \\n  >\\n\\n\\n\\n  <head>\\n    <meta charset=\"utf-8\">\\n  <link rel=\"dns-prefetch\" href=\"https://github.githubassets.com\">\\n  <link rel=\"dns-prefetch\" href=\"https://avatars.githubusercontent.com\">\\n  <link rel=\"dns-prefetch\" href=\"https://github-cloud.s3.amazonaws.com\">\\n  <link rel=\"dns-prefetch\" href=\"https://user-images.githubusercontent.com/\">\\n  <link rel=\"preconnect\" href=\"https://github.githubassets.com\" crossorigin>\\n  <link rel=\"preconnect\" href=\"https://avatars.githubusercontent.com\">\\n\\n  \\n\\n  <link crossorigin=\"anonymous\" media=\"all\" rel=\"stylesheet\" href=\"https://github.githubassets.com/assets/light-0cfd1fd8509e.css\" /><link crossorigin=\"anonymous\" media=\"all\" rel=\"stylesheet\" href=\"https://github.githubassets.com/assets/dark-d782f59290e2.css\" /><link data-color-theme=\"dark_dimmed\" crossorigin=\"anonymous\" media='"
      ]
     },
     "execution_count": 13,
     "metadata": {},
     "output_type": "execute_result"
    }
   ],
   "source": [
    "content[:1000]"
   ]
  },
  {
   "cell_type": "code",
   "execution_count": 14,
   "id": "54199aac-eea7-4302-9fc8-a93157852bf7",
   "metadata": {},
   "outputs": [],
   "source": [
    "doc = BeautifulSoup(content,\"html.parser\")"
   ]
  },
  {
   "cell_type": "code",
   "execution_count": 18,
   "id": "7ace5842-d5f1-4ad4-8e74-df1c7ae57f1b",
   "metadata": {},
   "outputs": [
    {
     "data": {
      "text/plain": [
       "5"
      ]
     },
     "execution_count": 18,
     "metadata": {},
     "output_type": "execute_result"
    }
   ],
   "source": [
    "len(doc)"
   ]
  },
  {
   "cell_type": "code",
   "execution_count": 26,
   "id": "0c6e17b4-930f-4719-b558-ff8d2af705f0",
   "metadata": {},
   "outputs": [],
   "source": [
    "topic = doc.find_all('p',{'class':'f3 lh-condensed mb-0 mt-1 Link--primary'})"
   ]
  },
  {
   "cell_type": "code",
   "execution_count": 33,
   "id": "7f65dff5-13e6-4a0b-8302-2ff80d409385",
   "metadata": {},
   "outputs": [],
   "source": [
    "topics = []"
   ]
  },
  {
   "cell_type": "code",
   "execution_count": 34,
   "id": "a40d920d-9bdc-4200-825d-53272a22cb1d",
   "metadata": {},
   "outputs": [],
   "source": [
    "for a in range(0,len(topic)):\n",
    "    topics.append(topic[a].text)"
   ]
  },
  {
   "cell_type": "code",
   "execution_count": 36,
   "id": "515f5514-a2e1-4e52-a0b8-3909a324f9bd",
   "metadata": {},
   "outputs": [
    {
     "data": {
      "text/plain": [
       "['3D', 'Ajax', 'Algorithm']"
      ]
     },
     "execution_count": 36,
     "metadata": {},
     "output_type": "execute_result"
    }
   ],
   "source": [
    "topics[:3]"
   ]
  },
  {
   "cell_type": "code",
   "execution_count": 39,
   "id": "a2ed7610-e50f-45cd-98d7-7ab074220ce8",
   "metadata": {},
   "outputs": [],
   "source": [
    "desc = doc.find_all('p',{'class':'f5 color-fg-muted mb-0 mt-1'})"
   ]
  },
  {
   "cell_type": "code",
   "execution_count": 58,
   "id": "a3a8de71-68f6-4109-946c-70b8fbfe6b92",
   "metadata": {},
   "outputs": [],
   "source": [
    "descs = []"
   ]
  },
  {
   "cell_type": "code",
   "execution_count": 59,
   "id": "5ff457bf-039a-44d8-a4f8-e79b15e28bba",
   "metadata": {},
   "outputs": [],
   "source": [
    "for a in range(0,len(desc)):\n",
    "    descs.append(desc[a].text.strip())"
   ]
  },
  {
   "cell_type": "code",
   "execution_count": 61,
   "id": "11cfb065-93d9-4e3a-89c3-3f25b599c448",
   "metadata": {},
   "outputs": [
    {
     "data": {
      "text/plain": [
       "['3D refers to the use of three-dimensional graphics, modeling, and animation in various industries.',\n",
       " 'Ajax is a technique for creating interactive web applications.',\n",
       " 'Algorithms are self-contained sequences that carry out a variety of tasks.']"
      ]
     },
     "execution_count": 61,
     "metadata": {},
     "output_type": "execute_result"
    }
   ],
   "source": [
    "descs[0:3]"
   ]
  },
  {
   "cell_type": "code",
   "execution_count": 86,
   "id": "cd75ad51-963d-4551-afde-5988e5308360",
   "metadata": {},
   "outputs": [],
   "source": [
    "link = doc.find_all('a',{'class':'no-underline flex-grow-0'})"
   ]
  },
  {
   "cell_type": "code",
   "execution_count": 89,
   "id": "a472cbaf-2af5-492e-8f5c-ff224205ac82",
   "metadata": {},
   "outputs": [
    {
     "data": {
      "text/plain": [
       "'/topics/3d'"
      ]
     },
     "execution_count": 89,
     "metadata": {},
     "output_type": "execute_result"
    }
   ],
   "source": [
    "link[0]['href']"
   ]
  },
  {
   "cell_type": "code",
   "execution_count": 90,
   "id": "3397d078-319a-4489-a775-4c723844c52b",
   "metadata": {},
   "outputs": [],
   "source": [
    "links = []"
   ]
  },
  {
   "cell_type": "code",
   "execution_count": 91,
   "id": "a673f7b9-d2cd-4913-ac07-e8cd8b090d56",
   "metadata": {},
   "outputs": [],
   "source": [
    "for a in range(0,len(link)):\n",
    "    links.append(\"https://github.com\"+link[a]['href'])"
   ]
  },
  {
   "cell_type": "code",
   "execution_count": 93,
   "id": "2fa2cf88-6f1b-44db-bc71-fcfceaf8d224",
   "metadata": {},
   "outputs": [
    {
     "data": {
      "text/plain": [
       "['https://github.com/topics/3d',\n",
       " 'https://github.com/topics/ajax',\n",
       " 'https://github.com/topics/algorithm']"
      ]
     },
     "execution_count": 93,
     "metadata": {},
     "output_type": "execute_result"
    }
   ],
   "source": [
    "links[:3]"
   ]
  },
  {
   "cell_type": "code",
   "execution_count": 94,
   "id": "4b8bc131-8882-44b7-83e6-4119ad2ad0b7",
   "metadata": {},
   "outputs": [],
   "source": [
    "data = {\n",
    "    \"Topics\":topics,\n",
    "    \"Descriptions\":descs,\n",
    "    \"Links\":links\n",
    "}"
   ]
  },
  {
   "cell_type": "code",
   "execution_count": 95,
   "id": "a2586c3a-e17d-40c2-9a32-80987eabb5c3",
   "metadata": {},
   "outputs": [],
   "source": [
    "import pandas as pd"
   ]
  },
  {
   "cell_type": "code",
   "execution_count": 96,
   "id": "06508fed-551a-47a2-8f4b-dd42aac46be3",
   "metadata": {},
   "outputs": [],
   "source": [
    "df = pd.DataFrame(data)"
   ]
  },
  {
   "cell_type": "code",
   "execution_count": 105,
   "id": "418572e6-dc16-4013-8a08-16658a251ea1",
   "metadata": {},
   "outputs": [],
   "source": [
    "df.to_csv(\"Topics.csv\",index=None)"
   ]
  },
  {
   "cell_type": "code",
   "execution_count": 106,
   "id": "9196498d-ca44-46b2-beaa-667ac833dc09",
   "metadata": {},
   "outputs": [],
   "source": [
    "newdata = pd.read_csv(\"Topics.csv\")"
   ]
  },
  {
   "cell_type": "code",
   "execution_count": 109,
   "id": "979a14fa-daec-4ef8-8eeb-45c1cd1ee9fc",
   "metadata": {},
   "outputs": [
    {
     "data": {
      "text/html": [
       "<div>\n",
       "<style scoped>\n",
       "    .dataframe tbody tr th:only-of-type {\n",
       "        vertical-align: middle;\n",
       "    }\n",
       "\n",
       "    .dataframe tbody tr th {\n",
       "        vertical-align: top;\n",
       "    }\n",
       "\n",
       "    .dataframe thead th {\n",
       "        text-align: right;\n",
       "    }\n",
       "</style>\n",
       "<table border=\"1\" class=\"dataframe\">\n",
       "  <thead>\n",
       "    <tr style=\"text-align: right;\">\n",
       "      <th></th>\n",
       "      <th>Topics</th>\n",
       "      <th>Descriptions</th>\n",
       "      <th>Links</th>\n",
       "    </tr>\n",
       "  </thead>\n",
       "  <tbody>\n",
       "    <tr>\n",
       "      <th>0</th>\n",
       "      <td>3D</td>\n",
       "      <td>3D refers to the use of three-dimensional grap...</td>\n",
       "      <td>https://github.com/topics/3d</td>\n",
       "    </tr>\n",
       "    <tr>\n",
       "      <th>1</th>\n",
       "      <td>Ajax</td>\n",
       "      <td>Ajax is a technique for creating interactive w...</td>\n",
       "      <td>https://github.com/topics/ajax</td>\n",
       "    </tr>\n",
       "    <tr>\n",
       "      <th>2</th>\n",
       "      <td>Algorithm</td>\n",
       "      <td>Algorithms are self-contained sequences that c...</td>\n",
       "      <td>https://github.com/topics/algorithm</td>\n",
       "    </tr>\n",
       "  </tbody>\n",
       "</table>\n",
       "</div>"
      ],
      "text/plain": [
       "      Topics                                       Descriptions  \\\n",
       "0         3D  3D refers to the use of three-dimensional grap...   \n",
       "1       Ajax  Ajax is a technique for creating interactive w...   \n",
       "2  Algorithm  Algorithms are self-contained sequences that c...   \n",
       "\n",
       "                                 Links  \n",
       "0         https://github.com/topics/3d  \n",
       "1       https://github.com/topics/ajax  \n",
       "2  https://github.com/topics/algorithm  "
      ]
     },
     "execution_count": 109,
     "metadata": {},
     "output_type": "execute_result"
    }
   ],
   "source": [
    "newdata.head(3)"
   ]
  },
  {
   "cell_type": "code",
   "execution_count": 111,
   "id": "693f5e59-9564-48a3-8e57-4b61d0ec66af",
   "metadata": {},
   "outputs": [
    {
     "data": {
      "text/html": [
       "<div>\n",
       "<style scoped>\n",
       "    .dataframe tbody tr th:only-of-type {\n",
       "        vertical-align: middle;\n",
       "    }\n",
       "\n",
       "    .dataframe tbody tr th {\n",
       "        vertical-align: top;\n",
       "    }\n",
       "\n",
       "    .dataframe thead th {\n",
       "        text-align: right;\n",
       "    }\n",
       "</style>\n",
       "<table border=\"1\" class=\"dataframe\">\n",
       "  <thead>\n",
       "    <tr style=\"text-align: right;\">\n",
       "      <th></th>\n",
       "      <th>Topics</th>\n",
       "      <th>Descriptions</th>\n",
       "      <th>Links</th>\n",
       "    </tr>\n",
       "  </thead>\n",
       "  <tbody>\n",
       "    <tr>\n",
       "      <th>0</th>\n",
       "      <td>3D</td>\n",
       "      <td>3D refers to the use of three-dimensional grap...</td>\n",
       "      <td>https://github.com/topics/3d</td>\n",
       "    </tr>\n",
       "    <tr>\n",
       "      <th>1</th>\n",
       "      <td>Ajax</td>\n",
       "      <td>Ajax is a technique for creating interactive w...</td>\n",
       "      <td>https://github.com/topics/ajax</td>\n",
       "    </tr>\n",
       "    <tr>\n",
       "      <th>2</th>\n",
       "      <td>Algorithm</td>\n",
       "      <td>Algorithms are self-contained sequences that c...</td>\n",
       "      <td>https://github.com/topics/algorithm</td>\n",
       "    </tr>\n",
       "  </tbody>\n",
       "</table>\n",
       "</div>"
      ],
      "text/plain": [
       "      Topics                                       Descriptions  \\\n",
       "0         3D  3D refers to the use of three-dimensional grap...   \n",
       "1       Ajax  Ajax is a technique for creating interactive w...   \n",
       "2  Algorithm  Algorithms are self-contained sequences that c...   \n",
       "\n",
       "                                 Links  \n",
       "0         https://github.com/topics/3d  \n",
       "1       https://github.com/topics/ajax  \n",
       "2  https://github.com/topics/algorithm  "
      ]
     },
     "execution_count": 111,
     "metadata": {},
     "output_type": "execute_result"
    }
   ],
   "source": [
    "df.head(3)"
   ]
  },
  {
   "cell_type": "code",
   "execution_count": 118,
   "id": "57ef21e0-3e33-4f05-a07e-ad1e23d0f858",
   "metadata": {},
   "outputs": [
    {
     "data": {
      "text/plain": [
       "'https://github.com/topics/3d'"
      ]
     },
     "execution_count": 118,
     "metadata": {},
     "output_type": "execute_result"
    }
   ],
   "source": [
    "df['Links'][0]"
   ]
  },
  {
   "cell_type": "code",
   "execution_count": 137,
   "id": "692b52dc-e3e2-4370-b5b2-af5357da1168",
   "metadata": {},
   "outputs": [],
   "source": [
    "import pandas as pd\n",
    "from bs4 import BeautifulSoup"
   ]
  },
  {
   "cell_type": "code",
   "execution_count": 138,
   "id": "f075482c-fb6d-4830-9267-fac577189892",
   "metadata": {},
   "outputs": [],
   "source": [
    "def genSoup(url):\n",
    "    res = requests.get(url)\n",
    "    content = res.text\n",
    "    doc = BeautifulSoup(content,'html.parser')\n",
    "    return doc"
   ]
  },
  {
   "cell_type": "code",
   "execution_count": 139,
   "id": "988a22fe-6cf9-4a6a-87ae-451756e90069",
   "metadata": {},
   "outputs": [],
   "source": [
    "doc = genSoup(df['Links'][0])"
   ]
  },
  {
   "cell_type": "code",
   "execution_count": 173,
   "id": "db1bb55d-194e-496b-bd91-134409b3dd38",
   "metadata": {},
   "outputs": [],
   "source": [
    "res = doc.find_all('h3',{'class':'f3 color-fg-muted text-normal lh-condensed'})"
   ]
  },
  {
   "cell_type": "code",
   "execution_count": 178,
   "id": "3afb930a-1683-43ec-92b4-1e9fb4f07517",
   "metadata": {},
   "outputs": [
    {
     "data": {
      "text/plain": [
       "'mrdoob'"
      ]
     },
     "execution_count": 178,
     "metadata": {},
     "output_type": "execute_result"
    }
   ],
   "source": [
    "res[0].find_all('a')[0].text"
   ]
  },
  {
   "cell_type": "code",
   "execution_count": 182,
   "id": "44c09015-e655-44d3-b3b4-293d1dd38203",
   "metadata": {},
   "outputs": [],
   "source": [
    "def genName(doc):\n",
    "    names=[]\n",
    "    res = doc.find_all('h3',{'class':'f3 color-fg-muted text-normal lh-condensed'})\n",
    "    for a in range(0,len(res)):\n",
    "        names.append(res[a].find_all('a')[0].text)\n",
    "    return names"
   ]
  },
  {
   "cell_type": "code",
   "execution_count": 184,
   "id": "63b34bbc-721a-473f-8cfa-184feaa13d08",
   "metadata": {},
   "outputs": [],
   "source": [
    "def genRepo(doc):\n",
    "    repo=[]\n",
    "    res = doc.find_all('h3',{'class':'f3 color-fg-muted text-normal lh-condensed'})\n",
    "    for a in range(0,len(res)):\n",
    "        repo.append(res[a].find_all('a')[1].text)\n",
    "    return repo"
   ]
  },
  {
   "cell_type": "code",
   "execution_count": 208,
   "id": "5e77760c-dcfd-45b4-ae42-47a6424b08e2",
   "metadata": {},
   "outputs": [],
   "source": [
    "def genLink(name,repo):\n",
    "    link = []\n",
    "    for a in range(0,len(name)):\n",
    "        link.append(\"https://github.com/\"+name[a]+\"/\"+repo[a])\n",
    "    return link"
   ]
  },
  {
   "cell_type": "code",
   "execution_count": 202,
   "id": "0617aaab-3879-4b82-af0c-c09eba963519",
   "metadata": {},
   "outputs": [
    {
     "data": {
      "text/plain": [
       "<span aria-label=\"27897 users starred this repository\" class=\"Counter js-social-count\" data-plural-suffix=\"users starred this repository\" data-singular-suffix=\"user starred this repository\" data-turbo-replace=\"true\" data-view-component=\"true\" id=\"repo-stars-counter-star\" title=\"27,897\">27.9k</span>"
      ]
     },
     "execution_count": 202,
     "metadata": {},
     "output_type": "execute_result"
    }
   ],
   "source": [
    "doc.find_all('span',{'id':'repo-stars-counter-star'})[1]"
   ]
  },
  {
   "cell_type": "code",
   "execution_count": 203,
   "id": "ee4bce27-efe7-4bec-a39c-b33c48efd576",
   "metadata": {},
   "outputs": [],
   "source": [
    "def genStar(doc):\n",
    "    star = []\n",
    "    for x in range(0,len(doc.find_all('span',{'id':'repo-stars-counter-star'}))):\n",
    "        star.append(doc.find_all('span',{'id':'repo-stars-counter-star'})[x]['title'])\n",
    "    return star"
   ]
  },
  {
   "cell_type": "code",
   "execution_count": 228,
   "id": "328b931c-da37-44f2-9392-6ba8709f02a7",
   "metadata": {},
   "outputs": [],
   "source": [
    "Username = []\n",
    "Repo = []\n",
    "RepoLink = []\n",
    "Star = []"
   ]
  },
  {
   "cell_type": "code",
   "execution_count": 229,
   "id": "94029983-7b01-4a4a-8fcc-a484fbacb1a9",
   "metadata": {},
   "outputs": [],
   "source": [
    "for url in df['Links']:\n",
    "    doc = genSoup(url)\n",
    "    name = genName(doc)\n",
    "    Username.extend(name)\n",
    "    repo = genRepo(doc)\n",
    "    Repo.extend(repo)\n",
    "    RepoLink.extend(genLink(name,repo))\n",
    "    Star.extend(genStar(doc))"
   ]
  },
  {
   "cell_type": "code",
   "execution_count": 230,
   "id": "5e3ef7a6-2011-40db-bf12-841cfc96e42a",
   "metadata": {},
   "outputs": [
    {
     "data": {
      "text/plain": [
       "['mrdoob', 'pmndrs', 'libgdx']"
      ]
     },
     "execution_count": 230,
     "metadata": {},
     "output_type": "execute_result"
    }
   ],
   "source": [
    "Username[:3]"
   ]
  },
  {
   "cell_type": "code",
   "execution_count": 236,
   "id": "8d7c739a-1c99-47bb-b3ad-e68b31f64fd1",
   "metadata": {},
   "outputs": [],
   "source": [
    "data = {\n",
    "    'Username':Username,\n",
    "    'Repositories':Repo,\n",
    "    'Repo Links':RepoLink,\n",
    "    'Stars':Star\n",
    "}"
   ]
  },
  {
   "cell_type": "code",
   "execution_count": 237,
   "id": "519e9b33-2ae7-4ad3-8916-8e1df9728a77",
   "metadata": {},
   "outputs": [],
   "source": [
    "df2 = pd.DataFrame(data)"
   ]
  },
  {
   "cell_type": "code",
   "execution_count": 238,
   "id": "a7ddafb0-4147-4299-bb4b-5ed6effe1e13",
   "metadata": {},
   "outputs": [
    {
     "data": {
      "text/html": [
       "<div>\n",
       "<style scoped>\n",
       "    .dataframe tbody tr th:only-of-type {\n",
       "        vertical-align: middle;\n",
       "    }\n",
       "\n",
       "    .dataframe tbody tr th {\n",
       "        vertical-align: top;\n",
       "    }\n",
       "\n",
       "    .dataframe thead th {\n",
       "        text-align: right;\n",
       "    }\n",
       "</style>\n",
       "<table border=\"1\" class=\"dataframe\">\n",
       "  <thead>\n",
       "    <tr style=\"text-align: right;\">\n",
       "      <th></th>\n",
       "      <th>Username</th>\n",
       "      <th>Repositories</th>\n",
       "      <th>Repo Links</th>\n",
       "      <th>Stars</th>\n",
       "    </tr>\n",
       "  </thead>\n",
       "  <tbody>\n",
       "    <tr>\n",
       "      <th>0</th>\n",
       "      <td>mrdoob</td>\n",
       "      <td>three.js</td>\n",
       "      <td>https://github.com/mrdoob/three.js</td>\n",
       "      <td>103,635</td>\n",
       "    </tr>\n",
       "    <tr>\n",
       "      <th>1</th>\n",
       "      <td>pmndrs</td>\n",
       "      <td>react-three-fiber</td>\n",
       "      <td>https://github.com/pmndrs/react-three-fiber</td>\n",
       "      <td>27,897</td>\n",
       "    </tr>\n",
       "    <tr>\n",
       "      <th>2</th>\n",
       "      <td>libgdx</td>\n",
       "      <td>libgdx</td>\n",
       "      <td>https://github.com/libgdx/libgdx</td>\n",
       "      <td>23,571</td>\n",
       "    </tr>\n",
       "    <tr>\n",
       "      <th>3</th>\n",
       "      <td>BabylonJS</td>\n",
       "      <td>Babylon.js</td>\n",
       "      <td>https://github.com/BabylonJS/Babylon.js</td>\n",
       "      <td>23,462</td>\n",
       "    </tr>\n",
       "    <tr>\n",
       "      <th>4</th>\n",
       "      <td>FreeCAD</td>\n",
       "      <td>FreeCAD</td>\n",
       "      <td>https://github.com/FreeCAD/FreeCAD</td>\n",
       "      <td>22,392</td>\n",
       "    </tr>\n",
       "    <tr>\n",
       "      <th>...</th>\n",
       "      <td>...</td>\n",
       "      <td>...</td>\n",
       "      <td>...</td>\n",
       "      <td>...</td>\n",
       "    </tr>\n",
       "    <tr>\n",
       "      <th>595</th>\n",
       "      <td>will</td>\n",
       "      <td>crystal-pg</td>\n",
       "      <td>https://github.com/will/crystal-pg</td>\n",
       "      <td>462</td>\n",
       "    </tr>\n",
       "    <tr>\n",
       "      <th>596</th>\n",
       "      <td>elbywan</td>\n",
       "      <td>crystalline</td>\n",
       "      <td>https://github.com/elbywan/crystalline</td>\n",
       "      <td>453</td>\n",
       "    </tr>\n",
       "    <tr>\n",
       "      <th>597</th>\n",
       "      <td>martenframework</td>\n",
       "      <td>marten</td>\n",
       "      <td>https://github.com/martenframework/marten</td>\n",
       "      <td>422</td>\n",
       "    </tr>\n",
       "    <tr>\n",
       "      <th>598</th>\n",
       "      <td>imdrasil</td>\n",
       "      <td>jennifer.cr</td>\n",
       "      <td>https://github.com/imdrasil/jennifer.cr</td>\n",
       "      <td>421</td>\n",
       "    </tr>\n",
       "    <tr>\n",
       "      <th>599</th>\n",
       "      <td>vim-crystal</td>\n",
       "      <td>vim-crystal</td>\n",
       "      <td>https://github.com/vim-crystal/vim-crystal</td>\n",
       "      <td>418</td>\n",
       "    </tr>\n",
       "  </tbody>\n",
       "</table>\n",
       "<p>600 rows × 4 columns</p>\n",
       "</div>"
      ],
      "text/plain": [
       "            Username       Repositories  \\\n",
       "0             mrdoob           three.js   \n",
       "1             pmndrs  react-three-fiber   \n",
       "2             libgdx             libgdx   \n",
       "3          BabylonJS         Babylon.js   \n",
       "4            FreeCAD            FreeCAD   \n",
       "..               ...                ...   \n",
       "595             will         crystal-pg   \n",
       "596          elbywan        crystalline   \n",
       "597  martenframework             marten   \n",
       "598         imdrasil        jennifer.cr   \n",
       "599      vim-crystal        vim-crystal   \n",
       "\n",
       "                                      Repo Links    Stars  \n",
       "0             https://github.com/mrdoob/three.js  103,635  \n",
       "1    https://github.com/pmndrs/react-three-fiber   27,897  \n",
       "2               https://github.com/libgdx/libgdx   23,571  \n",
       "3        https://github.com/BabylonJS/Babylon.js   23,462  \n",
       "4             https://github.com/FreeCAD/FreeCAD   22,392  \n",
       "..                                           ...      ...  \n",
       "595           https://github.com/will/crystal-pg      462  \n",
       "596       https://github.com/elbywan/crystalline      453  \n",
       "597    https://github.com/martenframework/marten      422  \n",
       "598      https://github.com/imdrasil/jennifer.cr      421  \n",
       "599   https://github.com/vim-crystal/vim-crystal      418  \n",
       "\n",
       "[600 rows x 4 columns]"
      ]
     },
     "execution_count": 238,
     "metadata": {},
     "output_type": "execute_result"
    }
   ],
   "source": [
    "df2"
   ]
  },
  {
   "cell_type": "code",
   "execution_count": 239,
   "id": "fed36bfb-5c9c-479f-a2ef-c414002a6103",
   "metadata": {},
   "outputs": [],
   "source": [
    "df.to_csv(\"RepoUsersList.csv\")"
   ]
  }
 ],
 "metadata": {
  "kernelspec": {
   "display_name": "Python 3 (ipykernel)",
   "language": "python",
   "name": "python3"
  },
  "language_info": {
   "codemirror_mode": {
    "name": "ipython",
    "version": 3
   },
   "file_extension": ".py",
   "mimetype": "text/x-python",
   "name": "python",
   "nbconvert_exporter": "python",
   "pygments_lexer": "ipython3",
   "version": "3.12.4"
  }
 },
 "nbformat": 4,
 "nbformat_minor": 5
}
